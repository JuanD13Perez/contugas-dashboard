{
 "cells": [
  {
   "cell_type": "code",
   "execution_count": 10,
   "id": "2b416598-9f6e-4fea-a760-7c6eedfbbac2",
   "metadata": {},
   "outputs": [],
   "source": [
    "# Cargar datos\n",
    "df = pd.read_csv(\"Data/Datos_Contugas_Compacted.csv\", parse_dates=[\"Fecha\"])"
   ]
  },
  {
   "cell_type": "code",
   "execution_count": 11,
   "id": "73fd5a6c-bf24-4db8-bbab-8f8d546b3afc",
   "metadata": {},
   "outputs": [
    {
     "data": {
      "text/html": [
       "<div>\n",
       "<style scoped>\n",
       "    .dataframe tbody tr th:only-of-type {\n",
       "        vertical-align: middle;\n",
       "    }\n",
       "\n",
       "    .dataframe tbody tr th {\n",
       "        vertical-align: top;\n",
       "    }\n",
       "\n",
       "    .dataframe thead th {\n",
       "        text-align: right;\n",
       "    }\n",
       "</style>\n",
       "<table border=\"1\" class=\"dataframe\">\n",
       "  <thead>\n",
       "    <tr style=\"text-align: right;\">\n",
       "      <th></th>\n",
       "      <th>Fecha</th>\n",
       "      <th>Presion</th>\n",
       "      <th>Temperatura</th>\n",
       "      <th>Volumen</th>\n",
       "      <th>ClientId</th>\n",
       "    </tr>\n",
       "  </thead>\n",
       "  <tbody>\n",
       "    <tr>\n",
       "      <th>0</th>\n",
       "      <td>2019-01-14 00:00:00</td>\n",
       "      <td>17.732563</td>\n",
       "      <td>28.209354</td>\n",
       "      <td>20.969751</td>\n",
       "      <td>CLIENTE1</td>\n",
       "    </tr>\n",
       "    <tr>\n",
       "      <th>1</th>\n",
       "      <td>2019-01-14 01:00:00</td>\n",
       "      <td>17.747776</td>\n",
       "      <td>28.518614</td>\n",
       "      <td>17.845739</td>\n",
       "      <td>CLIENTE1</td>\n",
       "    </tr>\n",
       "    <tr>\n",
       "      <th>2</th>\n",
       "      <td>2019-01-14 02:00:00</td>\n",
       "      <td>17.758916</td>\n",
       "      <td>28.230191</td>\n",
       "      <td>20.975914</td>\n",
       "      <td>CLIENTE1</td>\n",
       "    </tr>\n",
       "    <tr>\n",
       "      <th>3</th>\n",
       "      <td>2019-01-14 03:00:00</td>\n",
       "      <td>17.727940</td>\n",
       "      <td>27.811509</td>\n",
       "      <td>20.592299</td>\n",
       "      <td>CLIENTE1</td>\n",
       "    </tr>\n",
       "    <tr>\n",
       "      <th>4</th>\n",
       "      <td>2019-01-14 04:00:00</td>\n",
       "      <td>17.746484</td>\n",
       "      <td>27.795293</td>\n",
       "      <td>21.690626</td>\n",
       "      <td>CLIENTE1</td>\n",
       "    </tr>\n",
       "  </tbody>\n",
       "</table>\n",
       "</div>"
      ],
      "text/plain": [
       "                Fecha    Presion  Temperatura    Volumen  ClientId\n",
       "0 2019-01-14 00:00:00  17.732563    28.209354  20.969751  CLIENTE1\n",
       "1 2019-01-14 01:00:00  17.747776    28.518614  17.845739  CLIENTE1\n",
       "2 2019-01-14 02:00:00  17.758916    28.230191  20.975914  CLIENTE1\n",
       "3 2019-01-14 03:00:00  17.727940    27.811509  20.592299  CLIENTE1\n",
       "4 2019-01-14 04:00:00  17.746484    27.795293  21.690626  CLIENTE1"
      ]
     },
     "execution_count": 11,
     "metadata": {},
     "output_type": "execute_result"
    }
   ],
   "source": [
    "df.head(5)"
   ]
  },
  {
   "cell_type": "code",
   "execution_count": 2,
   "id": "34d33364-40dd-4889-a06a-038c4c3a57f0",
   "metadata": {},
   "outputs": [
    {
     "data": {
      "text/html": [
       "\n",
       "        <iframe\n",
       "            width=\"100%\"\n",
       "            height=\"650\"\n",
       "            src=\"http://127.0.0.1:8050/\"\n",
       "            frameborder=\"0\"\n",
       "            allowfullscreen\n",
       "            \n",
       "        ></iframe>\n",
       "        "
      ],
      "text/plain": [
       "<IPython.lib.display.IFrame at 0x23497a14890>"
      ]
     },
     "metadata": {},
     "output_type": "display_data"
    },
    {
     "name": "stderr",
     "output_type": "stream",
     "text": [
      "C:\\Users\\Juand.Perez\\Downloads\\Proyecto Final MIAD Contugas\\layout1.py:89: FutureWarning:\n",
      "\n",
      "'Q' is deprecated and will be removed in a future version, please use 'QE' instead.\n",
      "\n",
      "C:\\Users\\Juand.Perez\\Downloads\\Proyecto Final MIAD Contugas\\layout1.py:89: FutureWarning:\n",
      "\n",
      "'Q' is deprecated and will be removed in a future version, please use 'QE' instead.\n",
      "\n"
     ]
    }
   ],
   "source": [
    "%run app.py"
   ]
  }
 ],
 "metadata": {
  "kernelspec": {
   "display_name": "Python 3 (ipykernel)",
   "language": "python",
   "name": "python3"
  },
  "language_info": {
   "codemirror_mode": {
    "name": "ipython",
    "version": 3
   },
   "file_extension": ".py",
   "mimetype": "text/x-python",
   "name": "python",
   "nbconvert_exporter": "python",
   "pygments_lexer": "ipython3",
   "version": "3.12.5"
  }
 },
 "nbformat": 4,
 "nbformat_minor": 5
}
